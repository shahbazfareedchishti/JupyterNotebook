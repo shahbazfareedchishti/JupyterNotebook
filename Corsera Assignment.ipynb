{
 "cells": [
  {
   "attachments": {},
   "cell_type": "markdown",
   "id": "07fad35f-63b4-4512-a72e-a2a12d1824c5",
   "metadata": {},
   "source": [
    "# Data Science Tools and Ecosystem"
   ]
  },
  {
   "cell_type": "markdown",
   "id": "7da84a7a-c028-42af-bfef-3559aad52efd",
   "metadata": {},
   "source": [
    "In this notebook, Data Science Tools and Ecosystem are summarized\r\n"
   ]
  },
  {
   "cell_type": "markdown",
   "id": "e8398119-5f18-4ddd-9662-fe78c8b6a20c",
   "metadata": {},
   "source": [
    "Some of the popular languages that Data Scientists use are:"
   ]
  },
  {
   "cell_type": "markdown",
   "id": "e0c93de1-0e90-4358-bd5e-ea27ee6400fc",
   "metadata": {},
   "source": [
    "1. Numpy\n",
    "2. Kera\n",
    "3. PyTorch"
   ]
  },
  {
   "cell_type": "markdown",
   "id": "b6d41f59-4137-4785-925c-b5a6e6ee4e5a",
   "metadata": {},
   "source": [
    "| Data Science Tools|\n",
    "|-------------------|\n",
    "|SAS|\n",
    "|TensorFlow|\n",
    "|Tableau|\n",
    "|PowerBi|"
   ]
  },
  {
   "cell_type": "markdown",
   "id": "8cb809c8-7caf-4eab-bf18-cce52b01999a",
   "metadata": {},
   "source": [
    "(3*4)+5"
   ]
  },
  {
   "cell_type": "markdown",
   "id": "4564e699-3a92-4e95-922a-e718d3b6f167",
   "metadata": {},
   "source": [
    "This will convert 200 minutes to hours by diving by 60\n",
    "200/60"
   ]
  },
  {
   "cell_type": "markdown",
   "id": "cf5275b4-3147-4e3b-bacc-6327e49da94f",
   "metadata": {},
   "source": [
    "Objectives:\n",
    "- List of Languages\n",
    "- working on markdown cells\n",
    "- Popular Data Science Libraries"
   ]
  },
  {
   "cell_type": "markdown",
   "id": "a52a0f34-51a6-4eea-89e9-27640dd87aa8",
   "metadata": {},
   "source": [
    "##Author: \n",
    "Shahbaz Fareed"
   ]
  }
 ],
 "metadata": {
  "kernelspec": {
   "display_name": "Python 3 (ipykernel)",
   "language": "python",
   "name": "python3"
  },
  "language_info": {
   "codemirror_mode": {
    "name": "ipython",
    "version": 3
   },
   "file_extension": ".py",
   "mimetype": "text/x-python",
   "name": "python",
   "nbconvert_exporter": "python",
   "pygments_lexer": "ipython3",
   "version": "3.11.4"
  }
 },
 "nbformat": 4,
 "nbformat_minor": 5
}
